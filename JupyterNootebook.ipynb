{
 "cells": [
  {
   "cell_type": "markdown",
   "id": "27b1d9c4",
   "metadata": {},
   "source": [
    "# Data Science Tools and Ecosystem"
   ]
  },
  {
   "cell_type": "markdown",
   "id": "586b10f7",
   "metadata": {},
   "source": [
    " In this notebook, Data Science Tools and Ecosystem are summarized.\n",
    " \n",
    " ***Objectives:***\n",
    " + Create a Jupyter Nootebook\n",
    " + List down Popular IDE's used by Data Scientists\n",
    " + List down Popular Data Science Libraries\n",
    " + Practice different Syntx used in Jupyter Nootebook\n",
    " + Finally share Jupyter Nootbook thorough your Github repos."
   ]
  },
  {
   "cell_type": "markdown",
   "id": "7feae02b",
   "metadata": {},
   "source": [
    "Some of the popular languages that Data Scientists use are:\n",
    "1. Python\n",
    "2. R\n",
    "3. SQL"
   ]
  },
  {
   "cell_type": "markdown",
   "id": "e08b0b41",
   "metadata": {},
   "source": [
    "Some of the commonly used libraries used by Data Scientists include:\n",
    "+ Pandas\n",
    "+ Numpy\n",
    "+ Scikit-learn\n",
    "+ Apache Spark\n",
    "+ Tensor Flow"
   ]
  },
  {
   "cell_type": "markdown",
   "id": "1cbfb612",
   "metadata": {},
   "source": [
    "| Data Science Tools |\n",
    "| ------------------ |\n",
    "| Jupyter lab |\n",
    "| RStudio |\n",
    "| Appache Zeppelin |"
   ]
  },
  {
   "cell_type": "markdown",
   "id": "14db4f39",
   "metadata": {},
   "source": [
    "### Below are a few examples of evaluating arithmetic expressions in Python"
   ]
  },
  {
   "cell_type": "code",
   "execution_count": 5,
   "id": "cf21e454",
   "metadata": {},
   "outputs": [
    {
     "data": {
      "text/plain": [
       "17"
      ]
     },
     "execution_count": 5,
     "metadata": {},
     "output_type": "execute_result"
    }
   ],
   "source": [
    "# This a simple arithmetic expression to mutiply then add integers\n",
    "\n",
    "(3*4)+5"
   ]
  },
  {
   "cell_type": "code",
   "execution_count": 6,
   "id": "e6c0c3c9",
   "metadata": {},
   "outputs": [
    {
     "data": {
      "text/plain": [
       "3.3333333333333335"
      ]
     },
     "execution_count": 6,
     "metadata": {},
     "output_type": "execute_result"
    }
   ],
   "source": [
    "# This will convert 200 minutes to hours by diving by 60\n",
    "\n",
    "(200/60)"
   ]
  },
  {
   "cell_type": "markdown",
   "id": "18865484",
   "metadata": {},
   "source": [
    "## Author\n",
    "Muhammad Taimoor Khan"
   ]
  }
 ],
 "metadata": {
  "kernelspec": {
   "display_name": "Python 3 (ipykernel)",
   "language": "python",
   "name": "python3"
  },
  "language_info": {
   "codemirror_mode": {
    "name": "ipython",
    "version": 3
   },
   "file_extension": ".py",
   "mimetype": "text/x-python",
   "name": "python",
   "nbconvert_exporter": "python",
   "pygments_lexer": "ipython3",
   "version": "3.11.2"
  }
 },
 "nbformat": 4,
 "nbformat_minor": 5
}
